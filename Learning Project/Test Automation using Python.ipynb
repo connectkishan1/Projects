{
 "cells": [
  {
   "cell_type": "markdown",
   "metadata": {},
   "source": [
    "# Importing Selenium Web Driver"
   ]
  },
  {
   "cell_type": "code",
   "execution_count": 68,
   "metadata": {},
   "outputs": [],
   "source": [
    "import os\n",
    "# importing Selenium Web Driver\n",
    "from selenium import webdriver\n",
    "from selenium.webdriver.common.keys import Keys\n",
    "import time\n",
    "#or else use selenium.import.*"
   ]
  },
  {
   "cell_type": "code",
   "execution_count": 69,
   "metadata": {},
   "outputs": [],
   "source": [
    "driver=webdriver.Chrome(\"C:/Users/Radhakrishna/Anaconda3/chromedriver_win32/chromedriver.exe\")"
   ]
  },
  {
   "cell_type": "markdown",
   "metadata": {},
   "source": [
    "# Element locator in Selenium"
   ]
  },
  {
   "cell_type": "code",
   "execution_count": 74,
   "metadata": {},
   "outputs": [
    {
     "name": "stdout",
     "output_type": "stream",
     "text": [
      "to test plannnedtext of https://www.simplilearn.com/\n"
     ]
    }
   ],
   "source": [
    "#Locators: looks for an element\n",
    "\n",
    "#1. To test texting in google search \n",
    "#by Name:page having ID attribute corrosponding to the specified pattern.<name=\"tag\"/>\n",
    "\"\"\"driver.get(\"https://www.google.com\") #for write & Click On search\n",
    "driver.find_element_by_name(\"q\").send_keys(\"python\")\n",
    "driver.find_element_by_name(\"btnK\").submit()\"\"\" #click not working\n",
    "\n",
    "#2. To test plannnedtext of https://www.simplilearn.com/\n",
    "print(\"to test plannnedtext of https://www.simplilearn.com/\")\n",
    "driver.get(\"https://www.simplilearn.com/\")#open a website in chrome\n",
    "\n",
    "#by ID: page having ID attribute corrosponding to the specified pattern.<id=\"page id\"/>\n",
    "\"\"\"\n",
    "driver.find_element_by_id(\"header_srch\").send_keys(\"python\")\n",
    "driver.find_element_by_name(\"tag\").submit()\n",
    "\"\"\"\n",
    "#by link text: apply only to hyperlink texts.\n",
    " #we access the link by prefixing our target with \"link=\" and then followed by hyperlink text\n",
    "\"\"\"driver.find_element_by_link_text(\"Resources\").click() #click bcz of link\"\"\"\n",
    "\n",
    "#by partial link text:in some situations,we may need to find links by a portion of text in a link text element.\n",
    " #it contains.in such situations,we use partial link text to locate elements.\n",
    "\"\"\"driver.find_element_by_partial_link_text(\"Resou\").click()\"\"\"\n",
    "\n",
    "#by CSS Selector: its using HTML tag & a class name is simillar to using a tag & ID\n",
    " #but in this case, a dot(.)is used insted of a hash sign............css=tagclass[attribute=value]\n",
    "\"\"\"driver.find_element_by_css_selector(\"#header_srch\").send_keys(\"data science\")\"\"\"\n",
    "\n",
    "#by Xpath: its designed to allow the navigation of xml documents,with the purpose of selecting indivisual elements,attributes\n",
    " # or some other part of an xml documets for Specific processing.\n",
    "    \n",
    "driver.find_element_by_xpath(\"/html/body/div[1]/div/div/div[3]/header/div/nav[2]/a\").click() #click on login link\n",
    "   \n",
    "time.sleep(5)\n",
    "driver.find_element_by_xpath(\"/html/body/div[7]/div[3]/div[1]/div[1]/div/div/div/div[4]/form/div[2]/input\").send_keys(\"klifes03@gmail.com\") #filling mailid\n",
    "driver.find_element_by_name(\"user_pwd\").send_keys(\"Passw0rd@\") #filling password\n",
    "time.sleep(2)\n",
    "driver.find_element_by_name(\"btn_login\").click() # clickon link\n"
   ]
  },
  {
   "cell_type": "markdown",
   "metadata": {},
   "source": [
    "# Navigation commands"
   ]
  },
  {
   "cell_type": "code",
   "execution_count": 67,
   "metadata": {},
   "outputs": [],
   "source": [
    "driver.find_element_by_xpath(\"/html/body/div[1]/app-root/app-dashboard-layout/app-header/div/div/div/ul/li[2]/a\").click()\n"
   ]
  },
  {
   "cell_type": "code",
   "execution_count": null,
   "metadata": {},
   "outputs": [],
   "source": []
  }
 ],
 "metadata": {
  "kernelspec": {
   "display_name": "Python 3",
   "language": "python",
   "name": "python3"
  },
  "language_info": {
   "codemirror_mode": {
    "name": "ipython",
    "version": 3
   },
   "file_extension": ".py",
   "mimetype": "text/x-python",
   "name": "python",
   "nbconvert_exporter": "python",
   "pygments_lexer": "ipython3",
   "version": "3.7.4"
  }
 },
 "nbformat": 4,
 "nbformat_minor": 2
}
