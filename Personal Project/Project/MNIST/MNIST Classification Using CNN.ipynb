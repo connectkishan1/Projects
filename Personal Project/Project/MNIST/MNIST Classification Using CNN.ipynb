{
 "cells": [
  {
   "cell_type": "markdown",
   "metadata": {},
   "source": [
    "# Data Reading\n",
    "\n",
    "Data source- keras.datasets"
   ]
  },
  {
   "cell_type": "code",
   "execution_count": 199,
   "metadata": {},
   "outputs": [],
   "source": [
    "import numpy as np"
   ]
  },
  {
   "cell_type": "code",
   "execution_count": 200,
   "metadata": {
    "colab": {},
    "colab_type": "code",
    "id": "vHb2MjuPae47"
   },
   "outputs": [],
   "source": [
    "#Reading Data from Keras\n",
    "from keras.datasets import mnist\n",
    "(Xtrain,Ytrain),(Xtest,Ytest)=mnist.load_data()"
   ]
  },
  {
   "cell_type": "code",
   "execution_count": 201,
   "metadata": {
    "colab": {
     "base_uri": "https://localhost:8080/",
     "height": 85
    },
    "colab_type": "code",
    "executionInfo": {
     "elapsed": 1849,
     "status": "ok",
     "timestamp": 1580793565531,
     "user": {
      "displayName": "Kishan Kumar",
      "photoUrl": "",
      "userId": "15192247804116435916"
     },
     "user_tz": -330
    },
    "id": "r1BPKoh3dFMO",
    "outputId": "dd5d9def-51e8-403c-b805-d5604b9dc6d3"
   },
   "outputs": [
    {
     "name": "stdout",
     "output_type": "stream",
     "text": [
      "(60000, 28, 28)\n",
      "(10000, 28, 28)\n",
      "(60000,)\n",
      "(10000,)\n",
      "[5 0 4 ... 5 6 8]\n"
     ]
    }
   ],
   "source": [
    "print(Xtrain.shape)\n",
    "print(Xtest.shape)\n",
    "print(Ytrain.shape)\n",
    "print(Ytest.shape)\n",
    "print(Ytrain)#[0:5])"
   ]
  },
  {
   "cell_type": "markdown",
   "metadata": {},
   "source": [
    "Indicates,\n",
    "- 60000- no of images for training\n",
    "- 28 & 28- Pixel Size of image\n",
    "- 10000 - no of images for testing "
   ]
  },
  {
   "cell_type": "code",
   "execution_count": 202,
   "metadata": {},
   "outputs": [
    {
     "data": {
      "image/png": "[encoded data removed]",
      "text/plain": [
       "<Figure size 432x288 with 9 Axes>"
      ]
     },
     "metadata": {
      "needs_background": "light"
     },
     "output_type": "display_data"
    }
   ],
   "source": [
    "from matplotlib import pyplot  \n",
    "# plot first few images\n",
    "\n",
    "for i in range(9):\n",
    "\t# define subplot\n",
    "\tpyplot.subplot(330 + 1 + i)\n",
    "\t# plot raw pixel data\n",
    "\tpyplot.imshow(Xtrain[i], cmap=pyplot.get_cmap('gray'))\n",
    "  \n",
    "# show the figure\n",
    "pyplot.show()"
   ]
  },
  {
   "cell_type": "code",
   "execution_count": 203,
   "metadata": {
    "colab": {
     "base_uri": "https://localhost:8080/",
     "height": 265
    },
    "colab_type": "code",
    "executionInfo": {
     "elapsed": 1805,
     "status": "ok",
     "timestamp": 1580793565534,
     "user": {
      "displayName": "Kishan Kumar",
      "photoUrl": "",
      "userId": "15192247804116435916"
     },
     "user_tz": -330
    },
    "id": "ZzanB_6jd7E2",
    "outputId": "ac4c27bb-510a-407a-e29d-2e0b47201f31"
   },
   "outputs": [
    {
     "data": {
      "image/png": "[encoded data removed]",
      "text/plain": [
       "<Figure size 432x288 with 1 Axes>"
      ]
     },
     "metadata": {
      "needs_background": "light"
     },
     "output_type": "display_data"
    }
   ],
   "source": [
    "pyplot.imshow(Xtrain[330,:,:])\n",
    "pyplot.show()"
   ]
  },
  {
   "cell_type": "markdown",
   "metadata": {
    "colab_type": "text",
    "id": "i45j0t_ojNcI"
   },
   "source": [
    "# Data Prepration"
   ]
  },
  {
   "cell_type": "code",
   "execution_count": 204,
   "metadata": {
    "colab": {
     "base_uri": "https://localhost:8080/",
     "height": 51
    },
    "colab_type": "code",
    "executionInfo": {
     "elapsed": 1783,
     "status": "ok",
     "timestamp": 1580793565537,
     "user": {
      "displayName": "Kishan Kumar",
      "photoUrl": "",
      "userId": "15192247804116435916"
     },
     "user_tz": -330
    },
    "id": "YBUXNbDYhxQf",
    "outputId": "a9b36c43-cf17-4f68-d5b7-14a339026010"
   },
   "outputs": [
    {
     "name": "stdout",
     "output_type": "stream",
     "text": [
      "Xtrain_Shape (60000, 28, 28, 1)\n",
      "Xtest_Shape (10000, 28, 28, 1)\n"
     ]
    }
   ],
   "source": [
    "#Reshaping from 2D to 4D\n",
    "Xtrain=np.reshape(Xtrain,(60000,28,28,1)) #1st method \n",
    "print(\"Xtrain_Shape\",Xtrain.shape)\n",
    "Xtest=Xtest.reshape(Xtest.shape[0],Xtest.shape[1],Xtest.shape[2],1) # 2nd method\n",
    "print(\"Xtest_Shape\",Xtest.shape)"
   ]
  },
  {
   "cell_type": "markdown",
   "metadata": {},
   "source": [
    "## Normallization\n",
    "#### Why we always divide RGB values by 255?\n",
    "\n",
    "- RGB (Red, Green, Blue) are 8 bit each.\n",
    "- The range for each individual colour is 0-255 (as 2^8 = 256 possibilities).\n",
    "- The combination range is 256*256*256.\n",
    "- By dividing by 255, the 0-255 range can be described with a 0.0-1.0 range where 0.0 means 0 (0x00) and 1.0 means 255 (0xFF)."
   ]
  },
  {
   "cell_type": "code",
   "execution_count": 205,
   "metadata": {
    "colab": {},
    "colab_type": "code",
    "id": "F1O_lklVjeHT"
   },
   "outputs": [],
   "source": [
    "#for precison-to improve the numerical precision, the dataset p is normalized by centering it at a zero mean\n",
    "Xtrain=Xtrain.astype('float')\n",
    "Xtest=Xtest.astype('float')\n",
    "\n",
    "#Normailize the data \n",
    "Xtrain=Xtrain/255\n",
    "Xtest=Xtest/255"
   ]
  },
  {
   "cell_type": "code",
   "execution_count": 206,
   "metadata": {},
   "outputs": [
    {
     "name": "stdout",
     "output_type": "stream",
     "text": [
      "Xtrain_Shape (60000, 28, 28, 1)\n"
     ]
    }
   ],
   "source": [
    "print(\"Xtrain_Shape\",Xtrain.shape)"
   ]
  },
  {
   "cell_type": "code",
   "execution_count": 207,
   "metadata": {
    "colab": {
     "base_uri": "https://localhost:8080/",
     "height": 51
    },
    "colab_type": "code",
    "executionInfo": {
     "elapsed": 2677,
     "status": "ok",
     "timestamp": 1580793566478,
     "user": {
      "displayName": "Kishan Kumar",
      "photoUrl": "",
      "userId": "15192247804116435916"
     },
     "user_tz": -330
    },
    "id": "uIkoQCwvl5ph",
    "outputId": "6ca82e07-912e-430a-a2dc-de42d7bd7ed2"
   },
   "outputs": [
    {
     "name": "stdout",
     "output_type": "stream",
     "text": [
      "(60000, 10)\n",
      "(10000, 10)\n"
     ]
    }
   ],
   "source": [
    "#from keras.utils import to_categorical\n",
    "import keras\n",
    "Ytrain=keras.utils.to_categorical(Ytrain)\n",
    "print(Ytrain.shape)\n",
    "Ytest=keras.utils.to_categorical(Ytest)\n",
    "print(Ytest.shape)"
   ]
  },
  {
   "cell_type": "markdown",
   "metadata": {
    "colab_type": "text",
    "id": "cE5KgePtpdEh"
   },
   "source": [
    "# Choose the Model:CNN\n"
   ]
  },
  {
   "cell_type": "code",
   "execution_count": 208,
   "metadata": {
    "colab": {},
    "colab_type": "code",
    "id": "XwGQMfOmovAq"
   },
   "outputs": [],
   "source": [
    "from keras.models import Sequential\n",
    "from keras.layers import Conv2D\n",
    "from keras.layers import MaxPool2D,Flatten,Dense\n",
    "model = Sequential()\n",
    "model.add(Conv2D(8,(5,5),padding=\"valid\",strides=1,name=\"Conv1\",activation=\"relu\",input_shape=(28,28,1)))\n",
    "#practice model.add(Conv2D(8,(2,2),padding=\"valid\",strides=1,name=\"Conv2\"))\n",
    "model.add(MaxPool2D(pool_size=(2,2)))\n",
    "model.add(Conv2D(8,(5,5),padding=\"valid\",strides=1,name=\"Conv2\",activation=\"relu\"))\n",
    "model.add(MaxPool2D(pool_size=(2,2)))\n",
    "model.add(Flatten())\n",
    "model.add(Dense(64,activation =\"relu\"))\n",
    "model.add(Dense(32,activation=\"relu\"))\n",
    "model.add(Dense(10,activation =\"softmax\"))"
   ]
  },
  {
   "cell_type": "code",
   "execution_count": 209,
   "metadata": {
    "colab": {
     "base_uri": "https://localhost:8080/",
     "height": 357
    },
    "colab_type": "code",
    "executionInfo": {
     "elapsed": 1610,
     "status": "ok",
     "timestamp": 1580800793794,
     "user": {
      "displayName": "Kishan Kumar",
      "photoUrl": "",
      "userId": "15192247804116435916"
     },
     "user_tz": -330
    },
    "id": "dPGTjGcvv2sB",
    "outputId": "c8e41402-2a69-4410-c1bc-08440f868e72"
   },
   "outputs": [
    {
     "name": "stdout",
     "output_type": "stream",
     "text": [
      "Model: \"sequential_6\"\n",
      "_________________________________________________________________\n",
      "Layer (type)                 Output Shape              Param #   \n",
      "=================================================================\n",
      "Conv1 (Conv2D)               (None, 24, 24, 8)         208       \n",
      "_________________________________________________________________\n",
      "max_pooling2d_11 (MaxPooling (None, 12, 12, 8)         0         \n",
      "_________________________________________________________________\n",
      "Conv2 (Conv2D)               (None, 8, 8, 8)           1608      \n",
      "_________________________________________________________________\n",
      "max_pooling2d_12 (MaxPooling (None, 4, 4, 8)           0         \n",
      "_________________________________________________________________\n",
      "flatten_6 (Flatten)          (None, 128)               0         \n",
      "_________________________________________________________________\n",
      "dense_16 (Dense)             (None, 64)                8256      \n",
      "_________________________________________________________________\n",
      "dense_17 (Dense)             (None, 32)                2080      \n",
      "_________________________________________________________________\n",
      "dense_18 (Dense)             (None, 10)                330       \n",
      "=================================================================\n",
      "Total params: 12,482\n",
      "Trainable params: 12,482\n",
      "Non-trainable params: 0\n",
      "_________________________________________________________________\n"
     ]
    }
   ],
   "source": [
    "model.summary()"
   ]
  },
  {
   "cell_type": "markdown",
   "metadata": {},
   "source": [
    "## Model Compile\n",
    "- **optimizer=\"rmsprop\"**#adam for binary classification,rmsprop for multiclassification & regression, \n",
    "- **loss=None**#binary_crossentropy, categorical_crossentropy, MSE/RSME for regression\n",
    "- **metrics=None**#accuracy for classification,mae for regression,\n",
    "- **loss_weights=None**\n",
    "- **weighted_metrics=None**\n",
    "- **run_eagerly=None**\n",
    "- **steps_per_execution=None**#calculate then number from equation len(x_train) / batchsize else apply this eqn"
   ]
  },
  {
   "cell_type": "code",
   "execution_count": 210,
   "metadata": {
    "colab": {
     "base_uri": "https://localhost:8080/",
     "height": 802
    },
    "colab_type": "code",
    "executionInfo": {
     "elapsed": 232279,
     "status": "ok",
     "timestamp": 1580807655095,
     "user": {
      "displayName": "Kishan Kumar",
      "photoUrl": "",
      "userId": "15192247804116435916"
     },
     "user_tz": -330
    },
    "id": "JRTrMvDS50xC",
    "outputId": "e9c0bcc2-2838-444d-c778-0dc98881dd0c"
   },
   "outputs": [],
   "source": [
    "model.compile(loss = keras.losses.categorical_crossentropy,optimizer = keras.optimizers.Adadelta(),metrics =['accuracy'])"
   ]
  },
  {
   "cell_type": "markdown",
   "metadata": {},
   "source": [
    "## Model fit\n",
    "- Data Augmentation is a method of artificially creating a new dataset for training from the existing training dataset to improve the performance of deep learning neural networks with the amount of data available. It is a form of regularization which makes our model generalize better than before.\n",
    "- fit is used when the entire training dataset can fit into the memory and no data augmentation is applied\n",
    "- fit_generator is used when either we have a huge dataset to fit into our memory or when data augmentation needs to be applied\n",
    "\n",
    "**When we call the .fit_generator() function it makes assumptions:**\n",
    "\n",
    "- Keras is first calling the generator function(dataAugmentaion)\n",
    "- Generator function(dataAugmentaion) provides a batch_size of 32 to our .fit_generator() function.\n",
    "- our .fit_generator() function first accepts a batch of the dataset, then performs backpropagation on it, and then updates the weights in our model.\n",
    "- For the number of epochs specified(10 in our case) the process is repeated."
   ]
  },
  {
   "cell_type": "code",
   "execution_count": 218,
   "metadata": {},
   "outputs": [
    {
     "data": {
      "text/plain": [
       "'\\nfit={object=model,\\n     x = NULL, y = NULL,#training data\\n     batch_size = 32,NULL,#it can take any integer value or NULL and by default, it will be set to 32. It specifies no. of samples per gradient.\\n     epochs = 10,#an integer and number of epochs we want to train our model for\\n     verbose = getOption(\"keras.fit_verbose\", default = 1),#specifies verbosity mode(0 = silent, 1= progress bar, 2 = one line per epoch).\\n     validation_split = 0, validation_data = NULL,\\n     ------------------------------------------\\n     callbacks = NULL,\\n     view_metrics = getOption(\"keras.view_metrics\",default = \"auto\"),\\n     shuffle = TRUE,\\n     class_weight = NULL,\\n     sample_weight = NULL,\\n     initial_epoch = 0, steps_per_epoch = NULL, validation_steps = NULL}\\n\\nimagedatagen={featurewise_center=True,#Boolean. Set input mean to 0 over the dataset, feature-wise.\\n              featurewise_std_normalization=True,#Boolean. Divide inputs by std of the dataset, feature-wise.\\n              rotation_range = 20,\\n              horizontal_flip = True,#Boolean. Randomly flip inputs horizontally.\\n              width_shift_range = 0.2,\\n              height_shift_range = 0.2\\n              -------------------------------\\n              zoom_range = 0.20, \\n              fill_mode = \"nearest\",#One of {\"constant\", \"nearest\", \"reflect\" or \"wrap\"}. Default is \\'nearest\\'\\n              shear_range = 0.20,\\n              brightness_range\\n              shear_range\\n              zoom_range\\n              channel_shift_range\\n              fill_mode\\n              cval\\n              rescale#rescaling factor. Defaults to None. If None or 0, no rescaling is applied, otherwise we multiply the data by the value provided\\n              preprocessing_function#function that will be applied on each input. \\n              validation_split#Float. Fraction of images reserved for validation (strictly between 0 and 1).\\n              data_format\\n              samplewise_center=,#Boolean. Set each sample mean to 0.\\n              samplewise_std_normalization=,\\n              zca_whitening,\\n              zca_epsilon\\n              dtype}\\n\\nfitgenerator={epoch,\\n              steps_per_epoch=len(x_train) / batchsize\\n              validation_data\\n              verbose}\\n'"
      ]
     },
     "execution_count": 218,
     "metadata": {},
     "output_type": "execute_result"
    }
   ],
   "source": [
    "### constant\n",
    "\"\"\"\n",
    "fit={object=model,\n",
    "     x = NULL, y = NULL,#training data\n",
    "     batch_size = 32,NULL,#it can take any integer value or NULL and by default, it will be set to 32. It specifies no. of samples per gradient.\n",
    "     epochs = 10,#an integer and number of epochs we want to train our model for\n",
    "     verbose = getOption(\"keras.fit_verbose\", default = 1),#specifies verbosity mode(0 = silent, 1= progress bar, 2 = one line per epoch).\n",
    "     validation_split = 0, validation_data = NULL,\n",
    "     ------------------------------------------\n",
    "     callbacks = NULL,\n",
    "     view_metrics = getOption(\"keras.view_metrics\",default = \"auto\"),\n",
    "     shuffle = TRUE,\n",
    "     class_weight = NULL,\n",
    "     sample_weight = NULL,\n",
    "     initial_epoch = 0, steps_per_epoch = NULL, validation_steps = NULL}\n",
    "\n",
    "imagedatagen={featurewise_center=True,#Boolean. Set input mean to 0 over the dataset, feature-wise.\n",
    "              featurewise_std_normalization=True,#Boolean. Divide inputs by std of the dataset, feature-wise.\n",
    "              rotation_range = 20,\n",
    "              horizontal_flip = True,#Boolean. Randomly flip inputs horizontally.\n",
    "              width_shift_range = 0.2,\n",
    "              height_shift_range = 0.2\n",
    "              -------------------------------\n",
    "              zoom_range = 0.20, \n",
    "              fill_mode = \"nearest\",#One of {\"constant\", \"nearest\", \"reflect\" or \"wrap\"}. Default is 'nearest'\n",
    "              shear_range = 0.20,\n",
    "              brightness_range\n",
    "              shear_range\n",
    "              zoom_range\n",
    "              channel_shift_range\n",
    "              fill_mode\n",
    "              cval\n",
    "              rescale#rescaling factor. Defaults to None. If None or 0, no rescaling is applied, otherwise we multiply the data by the value provided\n",
    "              preprocessing_function#function that will be applied on each input. \n",
    "              validation_split#Float. Fraction of images reserved for validation (strictly between 0 and 1).\n",
    "              data_format\n",
    "              samplewise_center=,#Boolean. Set each sample mean to 0.\n",
    "              samplewise_std_normalization=,\n",
    "              zca_whitening,\n",
    "              zca_epsilon\n",
    "              dtype}\n",
    "\n",
    "fitgenerator={epoch,\n",
    "              steps_per_epoch=len(x_train) / batchsize\n",
    "              validation_data\n",
    "              verbose}\n",
    "\"\"\""
   ]
  },
  {
   "cell_type": "code",
   "execution_count": 211,
   "metadata": {},
   "outputs": [
    {
     "data": {
      "text/plain": [
       "'from keras.preprocessing.image import ImageDataGenerator\\ndatagen=ImageDataGenerator(featurewise_center=True,featurewise_std_normalization=True,rotation_range=20,width_shift_range=0.2,height_shift_range=0.2,\\n                           horizontal_flip=True)\\n\\ndatagen.fit(Xtrain)\\nit_train=datagen.flow(Xtrain,Ytrain,batch_size=64)\\n\\n#fits the model\\nsteps=int(Xtrain.shape[0]/64)\\nhistory=model.fit_generator(it_train,steps_per_epoch=steps, epochs=2,validation_data=(Xtest,Ytest),verbose=1)'"
      ]
     },
     "execution_count": 211,
     "metadata": {},
     "output_type": "execute_result"
    }
   ],
   "source": [
    "#Fit using fit generator\n",
    "\n",
    "\"\"\"from keras.preprocessing.image import ImageDataGenerator\n",
    "dataAugmentaion =ImageDataGenerator(featurewise_center=True,featurewise_std_normalization=True,rotation_range=20,width_shift_range=0.2,height_shift_range=0.2,\n",
    "                           horizontal_flip=True)\n",
    "\n",
    "dataAugmentaion.fit(Xtrain)\n",
    "it_train=dataAugmentaion.flow(Xtrain,Ytrain,batch_size=64)\n",
    "\n",
    "#fits the model\n",
    "steps=int(Xtrain.shape[0]/64)\n",
    "history=model.fit_generator(it_train,steps_per_epoch=steps, epochs=2,validation_data=(Xtest,Ytest),verbose=1)\"\"\"\n",
    "#evaluate model\n"
   ]
  },
  {
   "cell_type": "code",
   "execution_count": 212,
   "metadata": {},
   "outputs": [
    {
     "name": "stdout",
     "output_type": "stream",
     "text": [
      "Train on 48000 samples, validate on 12000 samples\n",
      "Epoch 1/10\n",
      "48000/48000 [==============================] - 28s 592us/step - loss: 0.2568 - accuracy: 0.9183 - val_loss: 0.0999 - val_accuracy: 0.9698\n",
      "Epoch 2/10\n",
      "48000/48000 [==============================] - 22s 453us/step - loss: 0.0924 - accuracy: 0.9716 - val_loss: 0.0757 - val_accuracy: 0.9769\n",
      "Epoch 3/10\n",
      "48000/48000 [==============================] - 18s 379us/step - loss: 0.0706 - accuracy: 0.9781 - val_loss: 0.0812 - val_accuracy: 0.9759\n",
      "Epoch 4/10\n",
      "48000/48000 [==============================] - 16s 335us/step - loss: 0.0569 - accuracy: 0.9819 - val_loss: 0.0681 - val_accuracy: 0.9820\n",
      "Epoch 5/10\n",
      "48000/48000 [==============================] - 19s 405us/step - loss: 0.0490 - accuracy: 0.9851 - val_loss: 0.0606 - val_accuracy: 0.9829\n",
      "Epoch 6/10\n",
      "48000/48000 [==============================] - 18s 369us/step - loss: 0.0419 - accuracy: 0.9869 - val_loss: 0.0587 - val_accuracy: 0.9836\n",
      "Epoch 7/10\n",
      "48000/48000 [==============================] - 18s 366us/step - loss: 0.0375 - accuracy: 0.9884 - val_loss: 0.0584 - val_accuracy: 0.9848\n",
      "Epoch 8/10\n",
      "48000/48000 [==============================] - 18s 373us/step - loss: 0.0349 - accuracy: 0.9889 - val_loss: 0.0594 - val_accuracy: 0.9836\n",
      "Epoch 9/10\n",
      "48000/48000 [==============================] - 18s 375us/step - loss: 0.0315 - accuracy: 0.9904 - val_loss: 0.0613 - val_accuracy: 0.9827\n",
      "Epoch 10/10\n",
      "48000/48000 [==============================] - 23s 480us/step - loss: 0.0286 - accuracy: 0.9913 - val_loss: 0.0577 - val_accuracy: 0.9840\n"
     ]
    }
   ],
   "source": [
    "History=model.fit(Xtrain,Ytrain,batch_size = 32,epochs =10,verbose= 1,validation_split = 0.2)"
   ]
  },
  {
   "cell_type": "code",
   "execution_count": 213,
   "metadata": {
    "colab": {
     "base_uri": "https://localhost:8080/",
     "height": 51
    },
    "colab_type": "code",
    "executionInfo": {
     "elapsed": 182878,
     "status": "ok",
     "timestamp": 1580807656268,
     "user": {
      "displayName": "Kishan Kumar",
      "photoUrl": "",
      "userId": "15192247804116435916"
     },
     "user_tz": -330
    },
    "id": "Lq5wIZsQd7dQ",
    "outputId": "2d5250d6-e431-46bf-e1e6-945f377ad59a"
   },
   "outputs": [
    {
     "name": "stdout",
     "output_type": "stream",
     "text": [
      "10000/10000 [==============================] - 2s 205us/step\n"
     ]
    },
    {
     "data": {
      "text/plain": [
       "[0.04564486822984181, 0.9865999817848206]"
      ]
     },
     "execution_count": 213,
     "metadata": {},
     "output_type": "execute_result"
    }
   ],
   "source": [
    "model.evaluate(Xtest,Ytest)"
   ]
  },
  {
   "cell_type": "markdown",
   "metadata": {},
   "source": [
    "without fit generator: test accuracy is 98%"
   ]
  },
  {
   "cell_type": "code",
   "execution_count": 214,
   "metadata": {},
   "outputs": [
    {
     "name": "stdout",
     "output_type": "stream",
     "text": [
      "Test loss: 0.04564486822984181\n",
      "Test accuracy: 0.9865999817848206\n"
     ]
    }
   ],
   "source": [
    "score = model.evaluate(Xtest, Ytest, verbose=0)\n",
    "print('Test loss:', score[0])\n",
    "print('Test accuracy:', score[1])"
   ]
  },
  {
   "cell_type": "code",
   "execution_count": 215,
   "metadata": {},
   "outputs": [
    {
     "data": {
      "text/plain": [
       "array([6], dtype=int64)"
      ]
     },
     "execution_count": 215,
     "metadata": {},
     "output_type": "execute_result"
    }
   ],
   "source": [
    "prediction=model.predict_classes(Xtest[156:157])\n",
    "prediction"
   ]
  },
  {
   "cell_type": "code",
   "execution_count": 216,
   "metadata": {},
   "outputs": [
    {
     "data": {
      "image/png": "[encoded data removed]",
      "text/plain": [
       "<Figure size 432x288 with 1 Axes>"
      ]
     },
     "metadata": {
      "needs_background": "light"
     },
     "output_type": "display_data"
    }
   ],
   "source": [
    "import pylab as plt\n",
    "\n",
    "plt.imshow(Xtest[156:157].reshape(28,28),cmap='gray')\n",
    "plt.show()"
   ]
  },
  {
   "cell_type": "code",
   "execution_count": 217,
   "metadata": {},
   "outputs": [
    {
     "name": "stdout",
     "output_type": "stream",
     "text": [
      "Prediction Score:\n",
      " [8.7064144e-08 2.4988265e-14 1.1675271e-11 7.0014862e-12 1.9259589e-07\n",
      " 6.2155628e-08 9.9999964e-01 6.4415102e-13 2.7879668e-10 2.4925934e-12]\n",
      "\n",
      "Thresholded Score:\n",
      " [0 0 0 0 0 0 1 0 0 0]\n",
      "\n",
      "Predicted Digit:\n",
      " 6\n"
     ]
    }
   ],
   "source": [
    "prediction2 = model.predict(Xtest[156:157])\n",
    "print('Prediction Score:\\n',prediction2[0])\n",
    "thresholded = (prediction2>0.5)*1\n",
    "print('\\nThresholded Score:\\n',thresholded[0])\n",
    "print('\\nPredicted Digit:\\n',np.where(thresholded == 1)[1][0])"
   ]
  },
  {
   "cell_type": "code",
   "execution_count": null,
   "metadata": {},
   "outputs": [],
   "source": []
  }
 ],
 "metadata": {
  "colab": {
   "collapsed_sections": [],
   "name": "mnist classy.ipynb",
   "provenance": [],
   "toc_visible": true
  },
  "kernelspec": {
   "display_name": "Python 3",
   "language": "python",
   "name": "python3"
  },
  "language_info": {
   "codemirror_mode": {
    "name": "ipython",
    "version": 3
   },
   "file_extension": ".py",
   "mimetype": "text/x-python",
   "name": "python",
   "nbconvert_exporter": "python",
   "pygments_lexer": "ipython3",
   "version": "3.7.4"
  }
 },
 "nbformat": 4,
 "nbformat_minor": 1
}
